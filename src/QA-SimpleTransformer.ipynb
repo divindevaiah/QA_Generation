{
  "nbformat": 4,
  "nbformat_minor": 0,
  "metadata": {
    "colab": {
      "name": "SQUAD-simpleTransformer.ipynb",
      "provenance": [],
      "collapsed_sections": []
    },
    "kernelspec": {
      "name": "python3",
      "display_name": "Python 3"
    },
    "accelerator": "GPU",
    "widgets": {
      "application/vnd.jupyter.widget-state+json": {
        "88fce748d9024bb3bbc754b7f502b831": {
          "model_module": "@jupyter-widgets/controls",
          "model_name": "HBoxModel",
          "state": {
            "_view_name": "HBoxView",
            "_dom_classes": [],
            "_model_name": "HBoxModel",
            "_view_module": "@jupyter-widgets/controls",
            "_model_module_version": "1.5.0",
            "_view_count": null,
            "_view_module_version": "1.5.0",
            "box_style": "",
            "layout": "IPY_MODEL_0577440bf8a24f0e8dba8664380fd036",
            "_model_module": "@jupyter-widgets/controls",
            "children": [
              "IPY_MODEL_aaa13594e304468d9242001bea4db689",
              "IPY_MODEL_bcd40232daa14bccba03aa80616ecc4d"
            ]
          }
        },
        "0577440bf8a24f0e8dba8664380fd036": {
          "model_module": "@jupyter-widgets/base",
          "model_name": "LayoutModel",
          "state": {
            "_view_name": "LayoutView",
            "grid_template_rows": null,
            "right": null,
            "justify_content": null,
            "_view_module": "@jupyter-widgets/base",
            "overflow": null,
            "_model_module_version": "1.2.0",
            "_view_count": null,
            "flex_flow": null,
            "width": null,
            "min_width": null,
            "border": null,
            "align_items": null,
            "bottom": null,
            "_model_module": "@jupyter-widgets/base",
            "top": null,
            "grid_column": null,
            "overflow_y": null,
            "overflow_x": null,
            "grid_auto_flow": null,
            "grid_area": null,
            "grid_template_columns": null,
            "flex": null,
            "_model_name": "LayoutModel",
            "justify_items": null,
            "grid_row": null,
            "max_height": null,
            "align_content": null,
            "visibility": null,
            "align_self": null,
            "height": null,
            "min_height": null,
            "padding": null,
            "grid_auto_rows": null,
            "grid_gap": null,
            "max_width": null,
            "order": null,
            "_view_module_version": "1.2.0",
            "grid_template_areas": null,
            "object_position": null,
            "object_fit": null,
            "grid_auto_columns": null,
            "margin": null,
            "display": null,
            "left": null
          }
        },
        "aaa13594e304468d9242001bea4db689": {
          "model_module": "@jupyter-widgets/controls",
          "model_name": "FloatProgressModel",
          "state": {
            "_view_name": "ProgressView",
            "style": "IPY_MODEL_0474cebb85a74a2b9652e612ec982a44",
            "_dom_classes": [],
            "description": "Epoch 4 of 4: 100%",
            "_model_name": "FloatProgressModel",
            "bar_style": "success",
            "max": 4,
            "_view_module": "@jupyter-widgets/controls",
            "_model_module_version": "1.5.0",
            "value": 4,
            "_view_count": null,
            "_view_module_version": "1.5.0",
            "orientation": "horizontal",
            "min": 0,
            "description_tooltip": null,
            "_model_module": "@jupyter-widgets/controls",
            "layout": "IPY_MODEL_0184af85d3694681ba86ff7f579b14cc"
          }
        },
        "bcd40232daa14bccba03aa80616ecc4d": {
          "model_module": "@jupyter-widgets/controls",
          "model_name": "HTMLModel",
          "state": {
            "_view_name": "HTMLView",
            "style": "IPY_MODEL_a0179455cd7e421a8031eae2c7a7fb95",
            "_dom_classes": [],
            "description": "",
            "_model_name": "HTMLModel",
            "placeholder": "​",
            "_view_module": "@jupyter-widgets/controls",
            "_model_module_version": "1.5.0",
            "value": " 4/4 [11:36&lt;00:00, 174.16s/it]",
            "_view_count": null,
            "_view_module_version": "1.5.0",
            "description_tooltip": null,
            "_model_module": "@jupyter-widgets/controls",
            "layout": "IPY_MODEL_7491487c49fb4d2393fba6ca3069fd0b"
          }
        },
        "0474cebb85a74a2b9652e612ec982a44": {
          "model_module": "@jupyter-widgets/controls",
          "model_name": "ProgressStyleModel",
          "state": {
            "_view_name": "StyleView",
            "_model_name": "ProgressStyleModel",
            "description_width": "initial",
            "_view_module": "@jupyter-widgets/base",
            "_model_module_version": "1.5.0",
            "_view_count": null,
            "_view_module_version": "1.2.0",
            "bar_color": null,
            "_model_module": "@jupyter-widgets/controls"
          }
        },
        "0184af85d3694681ba86ff7f579b14cc": {
          "model_module": "@jupyter-widgets/base",
          "model_name": "LayoutModel",
          "state": {
            "_view_name": "LayoutView",
            "grid_template_rows": null,
            "right": null,
            "justify_content": null,
            "_view_module": "@jupyter-widgets/base",
            "overflow": null,
            "_model_module_version": "1.2.0",
            "_view_count": null,
            "flex_flow": null,
            "width": null,
            "min_width": null,
            "border": null,
            "align_items": null,
            "bottom": null,
            "_model_module": "@jupyter-widgets/base",
            "top": null,
            "grid_column": null,
            "overflow_y": null,
            "overflow_x": null,
            "grid_auto_flow": null,
            "grid_area": null,
            "grid_template_columns": null,
            "flex": null,
            "_model_name": "LayoutModel",
            "justify_items": null,
            "grid_row": null,
            "max_height": null,
            "align_content": null,
            "visibility": null,
            "align_self": null,
            "height": null,
            "min_height": null,
            "padding": null,
            "grid_auto_rows": null,
            "grid_gap": null,
            "max_width": null,
            "order": null,
            "_view_module_version": "1.2.0",
            "grid_template_areas": null,
            "object_position": null,
            "object_fit": null,
            "grid_auto_columns": null,
            "margin": null,
            "display": null,
            "left": null
          }
        },
        "a0179455cd7e421a8031eae2c7a7fb95": {
          "model_module": "@jupyter-widgets/controls",
          "model_name": "DescriptionStyleModel",
          "state": {
            "_view_name": "StyleView",
            "_model_name": "DescriptionStyleModel",
            "description_width": "",
            "_view_module": "@jupyter-widgets/base",
            "_model_module_version": "1.5.0",
            "_view_count": null,
            "_view_module_version": "1.2.0",
            "_model_module": "@jupyter-widgets/controls"
          }
        },
        "7491487c49fb4d2393fba6ca3069fd0b": {
          "model_module": "@jupyter-widgets/base",
          "model_name": "LayoutModel",
          "state": {
            "_view_name": "LayoutView",
            "grid_template_rows": null,
            "right": null,
            "justify_content": null,
            "_view_module": "@jupyter-widgets/base",
            "overflow": null,
            "_model_module_version": "1.2.0",
            "_view_count": null,
            "flex_flow": null,
            "width": null,
            "min_width": null,
            "border": null,
            "align_items": null,
            "bottom": null,
            "_model_module": "@jupyter-widgets/base",
            "top": null,
            "grid_column": null,
            "overflow_y": null,
            "overflow_x": null,
            "grid_auto_flow": null,
            "grid_area": null,
            "grid_template_columns": null,
            "flex": null,
            "_model_name": "LayoutModel",
            "justify_items": null,
            "grid_row": null,
            "max_height": null,
            "align_content": null,
            "visibility": null,
            "align_self": null,
            "height": null,
            "min_height": null,
            "padding": null,
            "grid_auto_rows": null,
            "grid_gap": null,
            "max_width": null,
            "order": null,
            "_view_module_version": "1.2.0",
            "grid_template_areas": null,
            "object_position": null,
            "object_fit": null,
            "grid_auto_columns": null,
            "margin": null,
            "display": null,
            "left": null
          }
        },
        "c5287d6dad924b30b09f6381f5a115f6": {
          "model_module": "@jupyter-widgets/controls",
          "model_name": "HBoxModel",
          "state": {
            "_view_name": "HBoxView",
            "_dom_classes": [],
            "_model_name": "HBoxModel",
            "_view_module": "@jupyter-widgets/controls",
            "_model_module_version": "1.5.0",
            "_view_count": null,
            "_view_module_version": "1.5.0",
            "box_style": "",
            "layout": "IPY_MODEL_47f61b9db705470eae985812e9912062",
            "_model_module": "@jupyter-widgets/controls",
            "children": [
              "IPY_MODEL_83534f7286984c728de7253d5acd54d8",
              "IPY_MODEL_7ef001d9fbab42538e410a47e3576dd8"
            ]
          }
        },
        "47f61b9db705470eae985812e9912062": {
          "model_module": "@jupyter-widgets/base",
          "model_name": "LayoutModel",
          "state": {
            "_view_name": "LayoutView",
            "grid_template_rows": null,
            "right": null,
            "justify_content": null,
            "_view_module": "@jupyter-widgets/base",
            "overflow": null,
            "_model_module_version": "1.2.0",
            "_view_count": null,
            "flex_flow": null,
            "width": null,
            "min_width": null,
            "border": null,
            "align_items": null,
            "bottom": null,
            "_model_module": "@jupyter-widgets/base",
            "top": null,
            "grid_column": null,
            "overflow_y": null,
            "overflow_x": null,
            "grid_auto_flow": null,
            "grid_area": null,
            "grid_template_columns": null,
            "flex": null,
            "_model_name": "LayoutModel",
            "justify_items": null,
            "grid_row": null,
            "max_height": null,
            "align_content": null,
            "visibility": null,
            "align_self": null,
            "height": null,
            "min_height": null,
            "padding": null,
            "grid_auto_rows": null,
            "grid_gap": null,
            "max_width": null,
            "order": null,
            "_view_module_version": "1.2.0",
            "grid_template_areas": null,
            "object_position": null,
            "object_fit": null,
            "grid_auto_columns": null,
            "margin": null,
            "display": null,
            "left": null
          }
        },
        "83534f7286984c728de7253d5acd54d8": {
          "model_module": "@jupyter-widgets/controls",
          "model_name": "FloatProgressModel",
          "state": {
            "_view_name": "ProgressView",
            "style": "IPY_MODEL_f5a3bd49c85a4782819eb595e63392a3",
            "_dom_classes": [],
            "description": "Running Epoch 0: 100%",
            "_model_name": "FloatProgressModel",
            "bar_style": "success",
            "max": 1670,
            "_view_module": "@jupyter-widgets/controls",
            "_model_module_version": "1.5.0",
            "value": 1670,
            "_view_count": null,
            "_view_module_version": "1.5.0",
            "orientation": "horizontal",
            "min": 0,
            "description_tooltip": null,
            "_model_module": "@jupyter-widgets/controls",
            "layout": "IPY_MODEL_28fc7f3a155c4ad8b35cb06778e492f8"
          }
        },
        "7ef001d9fbab42538e410a47e3576dd8": {
          "model_module": "@jupyter-widgets/controls",
          "model_name": "HTMLModel",
          "state": {
            "_view_name": "HTMLView",
            "style": "IPY_MODEL_ea3ef60ba34c408c9ee775e624a266dd",
            "_dom_classes": [],
            "description": "",
            "_model_name": "HTMLModel",
            "placeholder": "​",
            "_view_module": "@jupyter-widgets/controls",
            "_model_module_version": "1.5.0",
            "value": " 1670/1670 [11:36&lt;00:00,  2.40it/s]",
            "_view_count": null,
            "_view_module_version": "1.5.0",
            "description_tooltip": null,
            "_model_module": "@jupyter-widgets/controls",
            "layout": "IPY_MODEL_cead316b0e044ad1be2df02c307984ef"
          }
        },
        "f5a3bd49c85a4782819eb595e63392a3": {
          "model_module": "@jupyter-widgets/controls",
          "model_name": "ProgressStyleModel",
          "state": {
            "_view_name": "StyleView",
            "_model_name": "ProgressStyleModel",
            "description_width": "initial",
            "_view_module": "@jupyter-widgets/base",
            "_model_module_version": "1.5.0",
            "_view_count": null,
            "_view_module_version": "1.2.0",
            "bar_color": null,
            "_model_module": "@jupyter-widgets/controls"
          }
        },
        "28fc7f3a155c4ad8b35cb06778e492f8": {
          "model_module": "@jupyter-widgets/base",
          "model_name": "LayoutModel",
          "state": {
            "_view_name": "LayoutView",
            "grid_template_rows": null,
            "right": null,
            "justify_content": null,
            "_view_module": "@jupyter-widgets/base",
            "overflow": null,
            "_model_module_version": "1.2.0",
            "_view_count": null,
            "flex_flow": null,
            "width": null,
            "min_width": null,
            "border": null,
            "align_items": null,
            "bottom": null,
            "_model_module": "@jupyter-widgets/base",
            "top": null,
            "grid_column": null,
            "overflow_y": null,
            "overflow_x": null,
            "grid_auto_flow": null,
            "grid_area": null,
            "grid_template_columns": null,
            "flex": null,
            "_model_name": "LayoutModel",
            "justify_items": null,
            "grid_row": null,
            "max_height": null,
            "align_content": null,
            "visibility": null,
            "align_self": null,
            "height": null,
            "min_height": null,
            "padding": null,
            "grid_auto_rows": null,
            "grid_gap": null,
            "max_width": null,
            "order": null,
            "_view_module_version": "1.2.0",
            "grid_template_areas": null,
            "object_position": null,
            "object_fit": null,
            "grid_auto_columns": null,
            "margin": null,
            "display": null,
            "left": null
          }
        },
        "ea3ef60ba34c408c9ee775e624a266dd": {
          "model_module": "@jupyter-widgets/controls",
          "model_name": "DescriptionStyleModel",
          "state": {
            "_view_name": "StyleView",
            "_model_name": "DescriptionStyleModel",
            "description_width": "",
            "_view_module": "@jupyter-widgets/base",
            "_model_module_version": "1.5.0",
            "_view_count": null,
            "_view_module_version": "1.2.0",
            "_model_module": "@jupyter-widgets/controls"
          }
        },
        "cead316b0e044ad1be2df02c307984ef": {
          "model_module": "@jupyter-widgets/base",
          "model_name": "LayoutModel",
          "state": {
            "_view_name": "LayoutView",
            "grid_template_rows": null,
            "right": null,
            "justify_content": null,
            "_view_module": "@jupyter-widgets/base",
            "overflow": null,
            "_model_module_version": "1.2.0",
            "_view_count": null,
            "flex_flow": null,
            "width": null,
            "min_width": null,
            "border": null,
            "align_items": null,
            "bottom": null,
            "_model_module": "@jupyter-widgets/base",
            "top": null,
            "grid_column": null,
            "overflow_y": null,
            "overflow_x": null,
            "grid_auto_flow": null,
            "grid_area": null,
            "grid_template_columns": null,
            "flex": null,
            "_model_name": "LayoutModel",
            "justify_items": null,
            "grid_row": null,
            "max_height": null,
            "align_content": null,
            "visibility": null,
            "align_self": null,
            "height": null,
            "min_height": null,
            "padding": null,
            "grid_auto_rows": null,
            "grid_gap": null,
            "max_width": null,
            "order": null,
            "_view_module_version": "1.2.0",
            "grid_template_areas": null,
            "object_position": null,
            "object_fit": null,
            "grid_auto_columns": null,
            "margin": null,
            "display": null,
            "left": null
          }
        },
        "c8ad1d62634f495bbe1b49a8f1e67bfa": {
          "model_module": "@jupyter-widgets/controls",
          "model_name": "HBoxModel",
          "state": {
            "_view_name": "HBoxView",
            "_dom_classes": [],
            "_model_name": "HBoxModel",
            "_view_module": "@jupyter-widgets/controls",
            "_model_module_version": "1.5.0",
            "_view_count": null,
            "_view_module_version": "1.5.0",
            "box_style": "",
            "layout": "IPY_MODEL_fae5399b16ce41b2af248d13dbfb5d62",
            "_model_module": "@jupyter-widgets/controls",
            "children": [
              "IPY_MODEL_71f1c888b54744e3bf8ae755b1baa9a6",
              "IPY_MODEL_ea976398e64a488d9801c7769542f9ae"
            ]
          }
        },
        "fae5399b16ce41b2af248d13dbfb5d62": {
          "model_module": "@jupyter-widgets/base",
          "model_name": "LayoutModel",
          "state": {
            "_view_name": "LayoutView",
            "grid_template_rows": null,
            "right": null,
            "justify_content": null,
            "_view_module": "@jupyter-widgets/base",
            "overflow": null,
            "_model_module_version": "1.2.0",
            "_view_count": null,
            "flex_flow": null,
            "width": null,
            "min_width": null,
            "border": null,
            "align_items": null,
            "bottom": null,
            "_model_module": "@jupyter-widgets/base",
            "top": null,
            "grid_column": null,
            "overflow_y": null,
            "overflow_x": null,
            "grid_auto_flow": null,
            "grid_area": null,
            "grid_template_columns": null,
            "flex": null,
            "_model_name": "LayoutModel",
            "justify_items": null,
            "grid_row": null,
            "max_height": null,
            "align_content": null,
            "visibility": null,
            "align_self": null,
            "height": null,
            "min_height": null,
            "padding": null,
            "grid_auto_rows": null,
            "grid_gap": null,
            "max_width": null,
            "order": null,
            "_view_module_version": "1.2.0",
            "grid_template_areas": null,
            "object_position": null,
            "object_fit": null,
            "grid_auto_columns": null,
            "margin": null,
            "display": null,
            "left": null
          }
        },
        "71f1c888b54744e3bf8ae755b1baa9a6": {
          "model_module": "@jupyter-widgets/controls",
          "model_name": "FloatProgressModel",
          "state": {
            "_view_name": "ProgressView",
            "style": "IPY_MODEL_e09976d2c7cd41478df5c55cf72a8a89",
            "_dom_classes": [],
            "description": "Running Epoch 1: 100%",
            "_model_name": "FloatProgressModel",
            "bar_style": "success",
            "max": 1670,
            "_view_module": "@jupyter-widgets/controls",
            "_model_module_version": "1.5.0",
            "value": 1670,
            "_view_count": null,
            "_view_module_version": "1.5.0",
            "orientation": "horizontal",
            "min": 0,
            "description_tooltip": null,
            "_model_module": "@jupyter-widgets/controls",
            "layout": "IPY_MODEL_113eb38eb400449a87b8b0c20feddd8c"
          }
        },
        "ea976398e64a488d9801c7769542f9ae": {
          "model_module": "@jupyter-widgets/controls",
          "model_name": "HTMLModel",
          "state": {
            "_view_name": "HTMLView",
            "style": "IPY_MODEL_3670939b8092425c8b147ed04c22dde8",
            "_dom_classes": [],
            "description": "",
            "_model_name": "HTMLModel",
            "placeholder": "​",
            "_view_module": "@jupyter-widgets/controls",
            "_model_module_version": "1.5.0",
            "value": " 1670/1670 [08:48&lt;00:00,  3.16it/s]",
            "_view_count": null,
            "_view_module_version": "1.5.0",
            "description_tooltip": null,
            "_model_module": "@jupyter-widgets/controls",
            "layout": "IPY_MODEL_ece83ef0e08f46499573d31ba3e1ddbc"
          }
        },
        "e09976d2c7cd41478df5c55cf72a8a89": {
          "model_module": "@jupyter-widgets/controls",
          "model_name": "ProgressStyleModel",
          "state": {
            "_view_name": "StyleView",
            "_model_name": "ProgressStyleModel",
            "description_width": "initial",
            "_view_module": "@jupyter-widgets/base",
            "_model_module_version": "1.5.0",
            "_view_count": null,
            "_view_module_version": "1.2.0",
            "bar_color": null,
            "_model_module": "@jupyter-widgets/controls"
          }
        },
        "113eb38eb400449a87b8b0c20feddd8c": {
          "model_module": "@jupyter-widgets/base",
          "model_name": "LayoutModel",
          "state": {
            "_view_name": "LayoutView",
            "grid_template_rows": null,
            "right": null,
            "justify_content": null,
            "_view_module": "@jupyter-widgets/base",
            "overflow": null,
            "_model_module_version": "1.2.0",
            "_view_count": null,
            "flex_flow": null,
            "width": null,
            "min_width": null,
            "border": null,
            "align_items": null,
            "bottom": null,
            "_model_module": "@jupyter-widgets/base",
            "top": null,
            "grid_column": null,
            "overflow_y": null,
            "overflow_x": null,
            "grid_auto_flow": null,
            "grid_area": null,
            "grid_template_columns": null,
            "flex": null,
            "_model_name": "LayoutModel",
            "justify_items": null,
            "grid_row": null,
            "max_height": null,
            "align_content": null,
            "visibility": null,
            "align_self": null,
            "height": null,
            "min_height": null,
            "padding": null,
            "grid_auto_rows": null,
            "grid_gap": null,
            "max_width": null,
            "order": null,
            "_view_module_version": "1.2.0",
            "grid_template_areas": null,
            "object_position": null,
            "object_fit": null,
            "grid_auto_columns": null,
            "margin": null,
            "display": null,
            "left": null
          }
        },
        "3670939b8092425c8b147ed04c22dde8": {
          "model_module": "@jupyter-widgets/controls",
          "model_name": "DescriptionStyleModel",
          "state": {
            "_view_name": "StyleView",
            "_model_name": "DescriptionStyleModel",
            "description_width": "",
            "_view_module": "@jupyter-widgets/base",
            "_model_module_version": "1.5.0",
            "_view_count": null,
            "_view_module_version": "1.2.0",
            "_model_module": "@jupyter-widgets/controls"
          }
        },
        "ece83ef0e08f46499573d31ba3e1ddbc": {
          "model_module": "@jupyter-widgets/base",
          "model_name": "LayoutModel",
          "state": {
            "_view_name": "LayoutView",
            "grid_template_rows": null,
            "right": null,
            "justify_content": null,
            "_view_module": "@jupyter-widgets/base",
            "overflow": null,
            "_model_module_version": "1.2.0",
            "_view_count": null,
            "flex_flow": null,
            "width": null,
            "min_width": null,
            "border": null,
            "align_items": null,
            "bottom": null,
            "_model_module": "@jupyter-widgets/base",
            "top": null,
            "grid_column": null,
            "overflow_y": null,
            "overflow_x": null,
            "grid_auto_flow": null,
            "grid_area": null,
            "grid_template_columns": null,
            "flex": null,
            "_model_name": "LayoutModel",
            "justify_items": null,
            "grid_row": null,
            "max_height": null,
            "align_content": null,
            "visibility": null,
            "align_self": null,
            "height": null,
            "min_height": null,
            "padding": null,
            "grid_auto_rows": null,
            "grid_gap": null,
            "max_width": null,
            "order": null,
            "_view_module_version": "1.2.0",
            "grid_template_areas": null,
            "object_position": null,
            "object_fit": null,
            "grid_auto_columns": null,
            "margin": null,
            "display": null,
            "left": null
          }
        },
        "c9252e918702450c959c43687c30c4c6": {
          "model_module": "@jupyter-widgets/controls",
          "model_name": "HBoxModel",
          "state": {
            "_view_name": "HBoxView",
            "_dom_classes": [],
            "_model_name": "HBoxModel",
            "_view_module": "@jupyter-widgets/controls",
            "_model_module_version": "1.5.0",
            "_view_count": null,
            "_view_module_version": "1.5.0",
            "box_style": "",
            "layout": "IPY_MODEL_4ad2584ad52b4784a3f984438437e5dd",
            "_model_module": "@jupyter-widgets/controls",
            "children": [
              "IPY_MODEL_8b4a0a9beb3340009dc2c921365b25cf",
              "IPY_MODEL_bfaadee46acb473b8a856ead2dfee971"
            ]
          }
        },
        "4ad2584ad52b4784a3f984438437e5dd": {
          "model_module": "@jupyter-widgets/base",
          "model_name": "LayoutModel",
          "state": {
            "_view_name": "LayoutView",
            "grid_template_rows": null,
            "right": null,
            "justify_content": null,
            "_view_module": "@jupyter-widgets/base",
            "overflow": null,
            "_model_module_version": "1.2.0",
            "_view_count": null,
            "flex_flow": null,
            "width": null,
            "min_width": null,
            "border": null,
            "align_items": null,
            "bottom": null,
            "_model_module": "@jupyter-widgets/base",
            "top": null,
            "grid_column": null,
            "overflow_y": null,
            "overflow_x": null,
            "grid_auto_flow": null,
            "grid_area": null,
            "grid_template_columns": null,
            "flex": null,
            "_model_name": "LayoutModel",
            "justify_items": null,
            "grid_row": null,
            "max_height": null,
            "align_content": null,
            "visibility": null,
            "align_self": null,
            "height": null,
            "min_height": null,
            "padding": null,
            "grid_auto_rows": null,
            "grid_gap": null,
            "max_width": null,
            "order": null,
            "_view_module_version": "1.2.0",
            "grid_template_areas": null,
            "object_position": null,
            "object_fit": null,
            "grid_auto_columns": null,
            "margin": null,
            "display": null,
            "left": null
          }
        },
        "8b4a0a9beb3340009dc2c921365b25cf": {
          "model_module": "@jupyter-widgets/controls",
          "model_name": "FloatProgressModel",
          "state": {
            "_view_name": "ProgressView",
            "style": "IPY_MODEL_e68d277bac134f798bfbe4acc8eb2251",
            "_dom_classes": [],
            "description": "Running Epoch 2: 100%",
            "_model_name": "FloatProgressModel",
            "bar_style": "success",
            "max": 1670,
            "_view_module": "@jupyter-widgets/controls",
            "_model_module_version": "1.5.0",
            "value": 1670,
            "_view_count": null,
            "_view_module_version": "1.5.0",
            "orientation": "horizontal",
            "min": 0,
            "description_tooltip": null,
            "_model_module": "@jupyter-widgets/controls",
            "layout": "IPY_MODEL_f51d5efcd6a74d5e847fcb2cced1f02d"
          }
        },
        "bfaadee46acb473b8a856ead2dfee971": {
          "model_module": "@jupyter-widgets/controls",
          "model_name": "HTMLModel",
          "state": {
            "_view_name": "HTMLView",
            "style": "IPY_MODEL_660a2d45250b4f1e82b8515ece304634",
            "_dom_classes": [],
            "description": "",
            "_model_name": "HTMLModel",
            "placeholder": "​",
            "_view_module": "@jupyter-widgets/controls",
            "_model_module_version": "1.5.0",
            "value": " 1670/1670 [02:44&lt;00:00, 10.17it/s]",
            "_view_count": null,
            "_view_module_version": "1.5.0",
            "description_tooltip": null,
            "_model_module": "@jupyter-widgets/controls",
            "layout": "IPY_MODEL_00ae226d702246b7ad1f80a885a26d88"
          }
        },
        "e68d277bac134f798bfbe4acc8eb2251": {
          "model_module": "@jupyter-widgets/controls",
          "model_name": "ProgressStyleModel",
          "state": {
            "_view_name": "StyleView",
            "_model_name": "ProgressStyleModel",
            "description_width": "initial",
            "_view_module": "@jupyter-widgets/base",
            "_model_module_version": "1.5.0",
            "_view_count": null,
            "_view_module_version": "1.2.0",
            "bar_color": null,
            "_model_module": "@jupyter-widgets/controls"
          }
        },
        "f51d5efcd6a74d5e847fcb2cced1f02d": {
          "model_module": "@jupyter-widgets/base",
          "model_name": "LayoutModel",
          "state": {
            "_view_name": "LayoutView",
            "grid_template_rows": null,
            "right": null,
            "justify_content": null,
            "_view_module": "@jupyter-widgets/base",
            "overflow": null,
            "_model_module_version": "1.2.0",
            "_view_count": null,
            "flex_flow": null,
            "width": null,
            "min_width": null,
            "border": null,
            "align_items": null,
            "bottom": null,
            "_model_module": "@jupyter-widgets/base",
            "top": null,
            "grid_column": null,
            "overflow_y": null,
            "overflow_x": null,
            "grid_auto_flow": null,
            "grid_area": null,
            "grid_template_columns": null,
            "flex": null,
            "_model_name": "LayoutModel",
            "justify_items": null,
            "grid_row": null,
            "max_height": null,
            "align_content": null,
            "visibility": null,
            "align_self": null,
            "height": null,
            "min_height": null,
            "padding": null,
            "grid_auto_rows": null,
            "grid_gap": null,
            "max_width": null,
            "order": null,
            "_view_module_version": "1.2.0",
            "grid_template_areas": null,
            "object_position": null,
            "object_fit": null,
            "grid_auto_columns": null,
            "margin": null,
            "display": null,
            "left": null
          }
        },
        "660a2d45250b4f1e82b8515ece304634": {
          "model_module": "@jupyter-widgets/controls",
          "model_name": "DescriptionStyleModel",
          "state": {
            "_view_name": "StyleView",
            "_model_name": "DescriptionStyleModel",
            "description_width": "",
            "_view_module": "@jupyter-widgets/base",
            "_model_module_version": "1.5.0",
            "_view_count": null,
            "_view_module_version": "1.2.0",
            "_model_module": "@jupyter-widgets/controls"
          }
        },
        "00ae226d702246b7ad1f80a885a26d88": {
          "model_module": "@jupyter-widgets/base",
          "model_name": "LayoutModel",
          "state": {
            "_view_name": "LayoutView",
            "grid_template_rows": null,
            "right": null,
            "justify_content": null,
            "_view_module": "@jupyter-widgets/base",
            "overflow": null,
            "_model_module_version": "1.2.0",
            "_view_count": null,
            "flex_flow": null,
            "width": null,
            "min_width": null,
            "border": null,
            "align_items": null,
            "bottom": null,
            "_model_module": "@jupyter-widgets/base",
            "top": null,
            "grid_column": null,
            "overflow_y": null,
            "overflow_x": null,
            "grid_auto_flow": null,
            "grid_area": null,
            "grid_template_columns": null,
            "flex": null,
            "_model_name": "LayoutModel",
            "justify_items": null,
            "grid_row": null,
            "max_height": null,
            "align_content": null,
            "visibility": null,
            "align_self": null,
            "height": null,
            "min_height": null,
            "padding": null,
            "grid_auto_rows": null,
            "grid_gap": null,
            "max_width": null,
            "order": null,
            "_view_module_version": "1.2.0",
            "grid_template_areas": null,
            "object_position": null,
            "object_fit": null,
            "grid_auto_columns": null,
            "margin": null,
            "display": null,
            "left": null
          }
        },
        "39f0eace929049f4ae8297db32a19235": {
          "model_module": "@jupyter-widgets/controls",
          "model_name": "HBoxModel",
          "state": {
            "_view_name": "HBoxView",
            "_dom_classes": [],
            "_model_name": "HBoxModel",
            "_view_module": "@jupyter-widgets/controls",
            "_model_module_version": "1.5.0",
            "_view_count": null,
            "_view_module_version": "1.5.0",
            "box_style": "",
            "layout": "IPY_MODEL_cdfeaaf13f2140c1aa7741fcda0559f6",
            "_model_module": "@jupyter-widgets/controls",
            "children": [
              "IPY_MODEL_dbbb05aa1fc24a558c30b60fa62fd409",
              "IPY_MODEL_ba8cdbaef543481a98688f1d401722d8"
            ]
          }
        },
        "cdfeaaf13f2140c1aa7741fcda0559f6": {
          "model_module": "@jupyter-widgets/base",
          "model_name": "LayoutModel",
          "state": {
            "_view_name": "LayoutView",
            "grid_template_rows": null,
            "right": null,
            "justify_content": null,
            "_view_module": "@jupyter-widgets/base",
            "overflow": null,
            "_model_module_version": "1.2.0",
            "_view_count": null,
            "flex_flow": null,
            "width": null,
            "min_width": null,
            "border": null,
            "align_items": null,
            "bottom": null,
            "_model_module": "@jupyter-widgets/base",
            "top": null,
            "grid_column": null,
            "overflow_y": null,
            "overflow_x": null,
            "grid_auto_flow": null,
            "grid_area": null,
            "grid_template_columns": null,
            "flex": null,
            "_model_name": "LayoutModel",
            "justify_items": null,
            "grid_row": null,
            "max_height": null,
            "align_content": null,
            "visibility": null,
            "align_self": null,
            "height": null,
            "min_height": null,
            "padding": null,
            "grid_auto_rows": null,
            "grid_gap": null,
            "max_width": null,
            "order": null,
            "_view_module_version": "1.2.0",
            "grid_template_areas": null,
            "object_position": null,
            "object_fit": null,
            "grid_auto_columns": null,
            "margin": null,
            "display": null,
            "left": null
          }
        },
        "dbbb05aa1fc24a558c30b60fa62fd409": {
          "model_module": "@jupyter-widgets/controls",
          "model_name": "FloatProgressModel",
          "state": {
            "_view_name": "ProgressView",
            "style": "IPY_MODEL_64fc1ba1a4ba4d3895eede374c527b1c",
            "_dom_classes": [],
            "description": "Running Epoch 3: 100%",
            "_model_name": "FloatProgressModel",
            "bar_style": "success",
            "max": 1670,
            "_view_module": "@jupyter-widgets/controls",
            "_model_module_version": "1.5.0",
            "value": 1670,
            "_view_count": null,
            "_view_module_version": "1.5.0",
            "orientation": "horizontal",
            "min": 0,
            "description_tooltip": null,
            "_model_module": "@jupyter-widgets/controls",
            "layout": "IPY_MODEL_f302903a420142da927b409fbbcfd735"
          }
        },
        "ba8cdbaef543481a98688f1d401722d8": {
          "model_module": "@jupyter-widgets/controls",
          "model_name": "HTMLModel",
          "state": {
            "_view_name": "HTMLView",
            "style": "IPY_MODEL_822d71f581314a3a83f1bc0df8df8dd7",
            "_dom_classes": [],
            "description": "",
            "_model_name": "HTMLModel",
            "placeholder": "​",
            "_view_module": "@jupyter-widgets/controls",
            "_model_module_version": "1.5.0",
            "value": " 1670/1670 [03:12&lt;00:00,  8.68it/s]",
            "_view_count": null,
            "_view_module_version": "1.5.0",
            "description_tooltip": null,
            "_model_module": "@jupyter-widgets/controls",
            "layout": "IPY_MODEL_031d3536adc645f8848a57a24f2d57e4"
          }
        },
        "64fc1ba1a4ba4d3895eede374c527b1c": {
          "model_module": "@jupyter-widgets/controls",
          "model_name": "ProgressStyleModel",
          "state": {
            "_view_name": "StyleView",
            "_model_name": "ProgressStyleModel",
            "description_width": "initial",
            "_view_module": "@jupyter-widgets/base",
            "_model_module_version": "1.5.0",
            "_view_count": null,
            "_view_module_version": "1.2.0",
            "bar_color": null,
            "_model_module": "@jupyter-widgets/controls"
          }
        },
        "f302903a420142da927b409fbbcfd735": {
          "model_module": "@jupyter-widgets/base",
          "model_name": "LayoutModel",
          "state": {
            "_view_name": "LayoutView",
            "grid_template_rows": null,
            "right": null,
            "justify_content": null,
            "_view_module": "@jupyter-widgets/base",
            "overflow": null,
            "_model_module_version": "1.2.0",
            "_view_count": null,
            "flex_flow": null,
            "width": null,
            "min_width": null,
            "border": null,
            "align_items": null,
            "bottom": null,
            "_model_module": "@jupyter-widgets/base",
            "top": null,
            "grid_column": null,
            "overflow_y": null,
            "overflow_x": null,
            "grid_auto_flow": null,
            "grid_area": null,
            "grid_template_columns": null,
            "flex": null,
            "_model_name": "LayoutModel",
            "justify_items": null,
            "grid_row": null,
            "max_height": null,
            "align_content": null,
            "visibility": null,
            "align_self": null,
            "height": null,
            "min_height": null,
            "padding": null,
            "grid_auto_rows": null,
            "grid_gap": null,
            "max_width": null,
            "order": null,
            "_view_module_version": "1.2.0",
            "grid_template_areas": null,
            "object_position": null,
            "object_fit": null,
            "grid_auto_columns": null,
            "margin": null,
            "display": null,
            "left": null
          }
        },
        "822d71f581314a3a83f1bc0df8df8dd7": {
          "model_module": "@jupyter-widgets/controls",
          "model_name": "DescriptionStyleModel",
          "state": {
            "_view_name": "StyleView",
            "_model_name": "DescriptionStyleModel",
            "description_width": "",
            "_view_module": "@jupyter-widgets/base",
            "_model_module_version": "1.5.0",
            "_view_count": null,
            "_view_module_version": "1.2.0",
            "_model_module": "@jupyter-widgets/controls"
          }
        },
        "031d3536adc645f8848a57a24f2d57e4": {
          "model_module": "@jupyter-widgets/base",
          "model_name": "LayoutModel",
          "state": {
            "_view_name": "LayoutView",
            "grid_template_rows": null,
            "right": null,
            "justify_content": null,
            "_view_module": "@jupyter-widgets/base",
            "overflow": null,
            "_model_module_version": "1.2.0",
            "_view_count": null,
            "flex_flow": null,
            "width": null,
            "min_width": null,
            "border": null,
            "align_items": null,
            "bottom": null,
            "_model_module": "@jupyter-widgets/base",
            "top": null,
            "grid_column": null,
            "overflow_y": null,
            "overflow_x": null,
            "grid_auto_flow": null,
            "grid_area": null,
            "grid_template_columns": null,
            "flex": null,
            "_model_name": "LayoutModel",
            "justify_items": null,
            "grid_row": null,
            "max_height": null,
            "align_content": null,
            "visibility": null,
            "align_self": null,
            "height": null,
            "min_height": null,
            "padding": null,
            "grid_auto_rows": null,
            "grid_gap": null,
            "max_width": null,
            "order": null,
            "_view_module_version": "1.2.0",
            "grid_template_areas": null,
            "object_position": null,
            "object_fit": null,
            "grid_auto_columns": null,
            "margin": null,
            "display": null,
            "left": null
          }
        }
      }
    }
  },
  "cells": [
    {
      "cell_type": "code",
      "metadata": {
        "id": "b4o8ZK8ILKAR",
        "colab_type": "code",
        "colab": {}
      },
      "source": [
        "# The below codes are written by following documentation of simple transformer https://simpletransformers.ai/"
      ],
      "execution_count": 1,
      "outputs": []
    },
    {
      "cell_type": "markdown",
      "metadata": {
        "id": "4nE6_KsIB9bv",
        "colab_type": "text"
      },
      "source": [
        "## Installing Necessary Library\n",
        "\n",
        "\n"
      ]
    },
    {
      "cell_type": "code",
      "metadata": {
        "id": "tb4JopD6JeTN",
        "colab_type": "code",
        "colab": {}
      },
      "source": [
        "#Supressing cell output\n",
        "%%capture \n",
        "!pip install simpletransformers"
      ],
      "execution_count": 2,
      "outputs": []
    },
    {
      "cell_type": "markdown",
      "metadata": {
        "id": "TzhvynKPCToM",
        "colab_type": "text"
      },
      "source": [
        "## Downloading and Processing Dataset"
      ]
    },
    {
      "cell_type": "code",
      "metadata": {
        "id": "SYHCvOTKK_bk",
        "colab_type": "code",
        "colab": {}
      },
      "source": [
        "#Supressing cell output\n",
        "%%capture\n",
        "import json\n",
        "\n",
        "#Downloading the train dataset\n",
        "!wget https://github.com/rajpurkar/SQuAD-explorer/raw/master/dataset/train-v2.0.json\n",
        "!mkdir data\n",
        "!mv 'train-v2.0.json' './data/train-v2.0.json'\n",
        "\n",
        "with open('./data/train-v2.0.json', 'r') as f:\n",
        "    train_data = json.load(f)\n",
        "\n",
        "#Converting the train dataset into input form\n",
        "train_data = [item for topic in train_data['data'] for item in topic['paragraphs'] ]\n",
        "train_data = train_data[:400] #training on 400 samples\n",
        "\n",
        "#Downloading the train dataset\n",
        "!wget https://rajpurkar.github.io/SQuAD-explorer/dataset/dev-v2.0.json\n",
        "!mv 'dev-v2.0.json' './data/dev-v2.0.json'\n",
        "\n",
        "with open('./data/dev-v2.0.json', 'r') as f:\n",
        "    dev_data = json.load(f)\n",
        "\n",
        "#Downloading the train dataset\n",
        "dev_data = [item for topic in dev_data['data'] for item in topic['paragraphs'] ]\n",
        "dev_data = dev_data[200:300]"
      ],
      "execution_count": 3,
      "outputs": []
    },
    {
      "cell_type": "code",
      "metadata": {
        "id": "PFXb7NJUJtE6",
        "colab_type": "code",
        "colab": {}
      },
      "source": [
        "#Supressing cell output\n",
        "%%capture\n",
        "\n",
        "from simpletransformers.question_answering import QuestionAnsweringModel\n",
        "\n",
        "train_args = {\n",
        "    'fp16':False,\n",
        "    'learning_rate': 3e-5,\n",
        "    'num_train_epochs': 4,\n",
        "    'max_seq_length': 384,\n",
        "    'doc_stride': 128,\n",
        "    'overwrite_output_dir': True,\n",
        "    'reprocess_input_data': False,\n",
        "    'train_batch_size': 2,\n",
        "    'gradient_accumulation_steps': 8,\n",
        "    'use_early_stopping':True,\n",
        "}\n",
        "\n",
        "model = QuestionAnsweringModel('bert', 'bert-base-cased', args=train_args)"
      ],
      "execution_count": 4,
      "outputs": []
    },
    {
      "cell_type": "code",
      "metadata": {
        "id": "5kSe19XbLOKU",
        "colab_type": "code",
        "colab": {
          "base_uri": "https://localhost:8080/",
          "height": 395,
          "referenced_widgets": [
            "88fce748d9024bb3bbc754b7f502b831",
            "0577440bf8a24f0e8dba8664380fd036",
            "aaa13594e304468d9242001bea4db689",
            "bcd40232daa14bccba03aa80616ecc4d",
            "0474cebb85a74a2b9652e612ec982a44",
            "0184af85d3694681ba86ff7f579b14cc",
            "a0179455cd7e421a8031eae2c7a7fb95",
            "7491487c49fb4d2393fba6ca3069fd0b",
            "c5287d6dad924b30b09f6381f5a115f6",
            "47f61b9db705470eae985812e9912062",
            "83534f7286984c728de7253d5acd54d8",
            "7ef001d9fbab42538e410a47e3576dd8",
            "f5a3bd49c85a4782819eb595e63392a3",
            "28fc7f3a155c4ad8b35cb06778e492f8",
            "ea3ef60ba34c408c9ee775e624a266dd",
            "cead316b0e044ad1be2df02c307984ef",
            "c8ad1d62634f495bbe1b49a8f1e67bfa",
            "fae5399b16ce41b2af248d13dbfb5d62",
            "71f1c888b54744e3bf8ae755b1baa9a6",
            "ea976398e64a488d9801c7769542f9ae",
            "e09976d2c7cd41478df5c55cf72a8a89",
            "113eb38eb400449a87b8b0c20feddd8c",
            "3670939b8092425c8b147ed04c22dde8",
            "ece83ef0e08f46499573d31ba3e1ddbc",
            "c9252e918702450c959c43687c30c4c6",
            "4ad2584ad52b4784a3f984438437e5dd",
            "8b4a0a9beb3340009dc2c921365b25cf",
            "bfaadee46acb473b8a856ead2dfee971",
            "e68d277bac134f798bfbe4acc8eb2251",
            "f51d5efcd6a74d5e847fcb2cced1f02d",
            "660a2d45250b4f1e82b8515ece304634",
            "00ae226d702246b7ad1f80a885a26d88",
            "39f0eace929049f4ae8297db32a19235",
            "cdfeaaf13f2140c1aa7741fcda0559f6",
            "dbbb05aa1fc24a558c30b60fa62fd409",
            "ba8cdbaef543481a98688f1d401722d8",
            "64fc1ba1a4ba4d3895eede374c527b1c",
            "f302903a420142da927b409fbbcfd735",
            "822d71f581314a3a83f1bc0df8df8dd7",
            "031d3536adc645f8848a57a24f2d57e4"
          ]
        },
        "outputId": "f611beea-8ec1-4e83-b3c1-83940e668fe6"
      },
      "source": [
        "model.train_model(train_data)"
      ],
      "execution_count": 5,
      "outputs": [
        {
          "output_type": "stream",
          "text": [
            "convert squad examples to features: 100%|██████████| 3226/3226 [00:28<00:00, 113.27it/s]\n",
            "add example index and unique id: 100%|██████████| 3226/3226 [00:00<00:00, 680693.47it/s]\n"
          ],
          "name": "stderr"
        },
        {
          "output_type": "display_data",
          "data": {
            "application/vnd.jupyter.widget-view+json": {
              "model_id": "88fce748d9024bb3bbc754b7f502b831",
              "version_minor": 0,
              "version_major": 2
            },
            "text/plain": [
              "HBox(children=(FloatProgress(value=0.0, description='Epoch', max=4.0, style=ProgressStyle(description_width='i…"
            ]
          },
          "metadata": {
            "tags": []
          }
        },
        {
          "output_type": "display_data",
          "data": {
            "application/vnd.jupyter.widget-view+json": {
              "model_id": "c5287d6dad924b30b09f6381f5a115f6",
              "version_minor": 0,
              "version_major": 2
            },
            "text/plain": [
              "HBox(children=(FloatProgress(value=0.0, description='Running Epoch 0', max=1670.0, style=ProgressStyle(descrip…"
            ]
          },
          "metadata": {
            "tags": []
          }
        },
        {
          "output_type": "stream",
          "text": [
            "Running loss: 4.745566"
          ],
          "name": "stdout"
        },
        {
          "output_type": "stream",
          "text": [
            "/usr/local/lib/python3.6/dist-packages/torch/optim/lr_scheduler.py:231: UserWarning: To get the last learning rate computed by the scheduler, please use `get_last_lr()`.\n",
            "  warnings.warn(\"To get the last learning rate computed by the scheduler, \"\n"
          ],
          "name": "stderr"
        },
        {
          "output_type": "stream",
          "text": [
            "Running loss: 0.577287\n"
          ],
          "name": "stdout"
        },
        {
          "output_type": "stream",
          "text": [
            "/usr/local/lib/python3.6/dist-packages/torch/optim/lr_scheduler.py:200: UserWarning: Please also save or load the state of the optimzer when saving or loading the scheduler.\n",
            "  warnings.warn(SAVE_STATE_WARNING, UserWarning)\n"
          ],
          "name": "stderr"
        },
        {
          "output_type": "display_data",
          "data": {
            "application/vnd.jupyter.widget-view+json": {
              "model_id": "c8ad1d62634f495bbe1b49a8f1e67bfa",
              "version_minor": 0,
              "version_major": 2
            },
            "text/plain": [
              "HBox(children=(FloatProgress(value=0.0, description='Running Epoch 1', max=1670.0, style=ProgressStyle(descrip…"
            ]
          },
          "metadata": {
            "tags": []
          }
        },
        {
          "output_type": "stream",
          "text": [
            "Running loss: 2.560131\n"
          ],
          "name": "stdout"
        },
        {
          "output_type": "display_data",
          "data": {
            "application/vnd.jupyter.widget-view+json": {
              "model_id": "c9252e918702450c959c43687c30c4c6",
              "version_minor": 0,
              "version_major": 2
            },
            "text/plain": [
              "HBox(children=(FloatProgress(value=0.0, description='Running Epoch 2', max=1670.0, style=ProgressStyle(descrip…"
            ]
          },
          "metadata": {
            "tags": []
          }
        },
        {
          "output_type": "stream",
          "text": [
            "Running loss: 0.152112\n"
          ],
          "name": "stdout"
        },
        {
          "output_type": "display_data",
          "data": {
            "application/vnd.jupyter.widget-view+json": {
              "model_id": "39f0eace929049f4ae8297db32a19235",
              "version_minor": 0,
              "version_major": 2
            },
            "text/plain": [
              "HBox(children=(FloatProgress(value=0.0, description='Running Epoch 3', max=1670.0, style=ProgressStyle(descrip…"
            ]
          },
          "metadata": {
            "tags": []
          }
        },
        {
          "output_type": "stream",
          "text": [
            "Running loss: 0.224689\n",
            "\n"
          ],
          "name": "stdout"
        }
      ]
    },
    {
      "cell_type": "markdown",
      "metadata": {
        "id": "SZ9_0EGnPuAF",
        "colab_type": "text"
      },
      "source": [
        "## Sample Output of Test dataset"
      ]
    },
    {
      "cell_type": "code",
      "metadata": {
        "id": "VXfrpvySXYBs",
        "colab_type": "code",
        "colab": {}
      },
      "source": [
        "#Supressing cell output\n",
        "%%capture\n",
        "import pandas as pd\n",
        "df = pd.DataFrame(columns=('Context', 'Question', 'Answer','GroundTruth'))\n",
        "\n",
        "for idx,data in enumerate(dev_data):\n",
        "  question_list = []\n",
        "  answer_list = []\n",
        "  ground_truth = []\n",
        "\n",
        "  for ques in data['qas']:\n",
        "    question_list.append(ques['question'])\n",
        "    if len(ques['answers'])>0:\n",
        "      ground_truth.append(ques['answers'][0]['text'])\n",
        "       \n",
        "  answers = model.predict([data]);\n",
        "\n",
        "  for ans in answers[0]:\n",
        "    answer_list.append(ans['answer'][0])\n",
        "  \n",
        "  for q,a,g in zip(question_list,answer_list,ground_truth):\n",
        "    df = df.append({'Context':data['context'],'Question':q,'Answer':a,'GroundTruth':g},ignore_index=True)\n",
        "\n"
      ],
      "execution_count": 6,
      "outputs": []
    },
    {
      "cell_type": "markdown",
      "metadata": {
        "id": "LXzbxH1RC4Dd",
        "colab_type": "text"
      },
      "source": [
        "### Converting the Output to a CSV file"
      ]
    },
    {
      "cell_type": "code",
      "metadata": {
        "id": "h0-NMO_FoDoh",
        "colab_type": "code",
        "colab": {}
      },
      "source": [
        "df.to_csv('./predictions.csv', index=False)\n"
      ],
      "execution_count": 7,
      "outputs": []
    },
    {
      "cell_type": "markdown",
      "metadata": {
        "id": "fmL6J-g6RgWT",
        "colab_type": "text"
      },
      "source": [
        "## Format of prediction input"
      ]
    },
    {
      "cell_type": "code",
      "metadata": {
        "id": "YtmsAv8TRO_C",
        "colab_type": "code",
        "colab": {}
      },
      "source": [
        "# predict([\n",
        "#         {\n",
        "#             'context': \"Some context as a demo\",\n",
        "#             'qas': [\n",
        "#                 {'id': '0', 'question': 'What is the context here?'},\n",
        "#                 {'id': '1', 'question': 'What is this for?'}\n",
        "#             ]\n",
        "#         }\n",
        "#     ])"
      ],
      "execution_count": 8,
      "outputs": []
    },
    {
      "cell_type": "code",
      "metadata": {
        "id": "bRxzsul9M2aW",
        "colab_type": "code",
        "colab": {}
      },
      "source": [
        "%%capture \n",
        "context = \"\"\"The Federal city of Bonn (German pronunciation: [bɔn] (About this soundlisten) Latin: Bonna) is a city on \n",
        "the banks of the Rhine in the German state of North Rhine-Westphalia, with a population of over 300,000. \n",
        "About 24 km (15 mi) south-southeast of Cologne, Bonn is in the southernmost part of the Rhine-Ruhr region, \n",
        "Germany's largest metropolitan area, with over 11 million inhabitants.\n",
        "It is famously known as the birthplace of Ludwig Van Beethoven in 1770. He spent his childhood and teenage years in Bonn.\n",
        "Founded in the 1st century BC as a Roman settlement, Bonn is one of Germany's oldest cities..\"\"\"\n",
        "\n",
        "ques=[\"\"\"The Federal city of Bonn is a city on the banks of the Rhine in the German state of where, with a population of over 300,000? \"\"\",\n",
        "      \"\"\"The Federal city of Bonn is a city on the banks of the Rhine in the German state of North Rhine-Westphalia, with a population of how many?\"\"\",\n",
        "      \"\"\"where is in the southernmost part of the Rhine-Ruhr region, Germany's largest metropolitan area, with over 11 million inhabitants?\"\"\",\n",
        "      \"\"\"Bonn is in the southernmost part of the where region, Germany's largest metropolitan area, with over 11 million inhabitants?\"\"\",\n",
        "      \"\"\"Bonn is in the southernmost part of the Rhine-Ruhr region, where's largest metropolitan area, with over 11 million inhabitants?\"\"\",\n",
        "      \"\"\"Bonn is in the southernmost part of the Rhine-Ruhr region, Germany's largest metropolitan area, with how many inhabitants?\"\"\",\n",
        "      \"\"\"Founded in when BC as a Roman settlement, Bonn is one of Germany's oldest cities?\"\"\",\n",
        "      \"\"\"Founded in the 1st century BC as a where settlement, Bonn is one of Germany's oldest cities?\"\"\",\n",
        "      \"\"\"Founded in the 1st century BC as a Roman settlement, where is one of Germany's oldest cities?\"\"\",\n",
        "      \"\"\"Founded in the 1st century BC as a Roman settlement, Bonn is how many of Germany's oldest cities?\"\"\",\n",
        "      \"\"\"Founded in the 1st century BC as a Roman settlement, Bonn is one of where's oldest cities?\"\"\"]\n",
        "\n",
        "answer = []\n",
        "\n",
        "for i in range(len(ques)):\n",
        "  to_predict = [{'context': context,'qas': [{'question': ques[i], 'id': '0'}]}]\n",
        "  pred = model.predict(to_predict)\n",
        "  answer.append(pred[0][0]['answer'][0])"
      ],
      "execution_count": 15,
      "outputs": []
    },
    {
      "cell_type": "markdown",
      "metadata": {
        "id": "tf2awVcTPcFx",
        "colab_type": "text"
      },
      "source": [
        "## Sample Prediction"
      ]
    },
    {
      "cell_type": "code",
      "metadata": {
        "id": "tjuNrjW1PF2k",
        "colab_type": "code",
        "colab": {
          "base_uri": "https://localhost:8080/",
          "height": 829
        },
        "outputId": "10dc1f46-03ff-4fcf-b5f6-493d6e1aa021"
      },
      "source": [
        "for q,a in zip(ques,answer):\n",
        "  print(\"Question: \",q)\n",
        "  print(\"Answer: \",a,'\\n\\n')"
      ],
      "execution_count": 16,
      "outputs": [
        {
          "output_type": "stream",
          "text": [
            "Question:  The Federal city of Bonn is a city on the banks of the Rhine in the German state of where, with a population of over 300,000? \n",
            "Answer:  North Rhine-Westphalia \n",
            "\n",
            "\n",
            "Question:  The Federal city of Bonn is a city on the banks of the Rhine in the German state of North Rhine-Westphalia, with a population of how many?\n",
            "Answer:  300,000 \n",
            "\n",
            "\n",
            "Question:  where is in the southernmost part of the Rhine-Ruhr region, Germany's largest metropolitan area, with over 11 million inhabitants?\n",
            "Answer:  Bonn \n",
            "\n",
            "\n",
            "Question:  Bonn is in the southernmost part of the where region, Germany's largest metropolitan area, with over 11 million inhabitants?\n",
            "Answer:  Rhine-Ruhr \n",
            "\n",
            "\n",
            "Question:  Bonn is in the southernmost part of the Rhine-Ruhr region, where's largest metropolitan area, with over 11 million inhabitants?\n",
            "Answer:  300,000 \n",
            "\n",
            "\n",
            "Question:  Bonn is in the southernmost part of the Rhine-Ruhr region, Germany's largest metropolitan area, with how many inhabitants?\n",
            "Answer:  11 million \n",
            "\n",
            "\n",
            "Question:  Founded in when BC as a Roman settlement, Bonn is one of Germany's oldest cities?\n",
            "Answer:  the 1st century BC \n",
            "\n",
            "\n",
            "Question:  Founded in the 1st century BC as a where settlement, Bonn is one of Germany's oldest cities?\n",
            "Answer:  Roman settlement, Bonn is one of Germany's oldest cities.. \n",
            "\n",
            "\n",
            "Question:  Founded in the 1st century BC as a Roman settlement, where is one of Germany's oldest cities?\n",
            "Answer:  . \n",
            "\n",
            "\n",
            "Question:  Founded in the 1st century BC as a Roman settlement, Bonn is how many of Germany's oldest cities?\n",
            "Answer:  . \n",
            "\n",
            "\n",
            "Question:  Founded in the 1st century BC as a Roman settlement, Bonn is one of where's oldest cities?\n",
            "Answer:  Germany's oldest cities.. \n",
            "\n",
            "\n"
          ],
          "name": "stdout"
        }
      ]
    }
  ]
}